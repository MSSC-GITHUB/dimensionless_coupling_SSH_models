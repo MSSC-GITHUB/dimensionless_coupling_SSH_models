{
 "cells": [
  {
   "attachments": {},
   "cell_type": "markdown",
   "metadata": {},
   "source": [
    "# Electron Phonon Dimensionless-coupling for SSH models"
   ]
  },
  {
   "attachments": {},
   "cell_type": "markdown",
   "metadata": {},
   "source": [
    "This note book contains dimensionless coupling($\\lambda$) for Optical Su-Sherifer-Heeger(SSH) model(O.SSH), Bond SSH model(B.SSH) and Acoustic SSH model(A.SSH). We have introducesd two aproximation methods and exact method of calculating the $\\lambda$. General way of calculating the $\\lambda$ is to take the Fermi-surface average as shown below.\n",
    "\n",
    "$\\lambda = \\frac{2\\eta(0)}{\\hbar}\\langle\\langle \\frac{g(k,q)}{\\Omega_q} \\rangle\\rangle_{FS}$\n",
    "\n",
    "Here the function $g(k,q)$ is a vertex function that is identical to each e-ph model. The $\\Omega_q$ is the phonon's frequency that depeds on the types of phonons the model working on. For an Optical and Bond SSH model, where optical phonons present in the system:\n",
    "\n",
    "$\\Omega_q = \\Omega_0$ \n",
    " \n",
    " and for Acoustic SSH model which has acoustic phonons:\n",
    " \n",
    "$\\Omega_q = 2\\Omega_0|sin(q/2)|$\n"
   ]
  },
  {
   "cell_type": "code",
   "execution_count": null,
   "metadata": {},
   "outputs": [],
   "source": [
    "import LinearAlgebra\n",
    "import Roots"
   ]
  },
  {
   "attachments": {},
   "cell_type": "markdown",
   "metadata": {},
   "source": [
    "## <font color='red'> Bond SSH model </font>"
   ]
  },
  {
   "attachments": {},
   "cell_type": "markdown",
   "metadata": {},
   "source": [
    "Under this section, we will disciscuss about the B.SSH model, specifically the e-ph coupling part of the Hamiltonian. First let consider the optical phonons frequency under diffenet momntum vector $\\vec q$:\n",
    "\n",
    "$\\Omega_q = \\Omega_b$\n",
    "\n",
    "Then, let consider the $H_{e-ph}$ where $\\alpha$ represnts the microscopic coupling of the model, and $\\hat{X}_i$ gives the phonon displacement at bond $i$ which is in between the sites $i$ and $i+1$, The creation and anihilation operator at position space(in site $i$ with spin $\\sigma$) is given by $\\hat{c}^\\dagger_{i,\\sigma}$ and $\\hat{c}_{i,\\sigma}$ in order.\n",
    "\n",
    "$H_{e-ph} = \\alpha\\sum_{i} \\hat{X}_i [\\hat{c}^\\dagger_{i,\\sigma}\\hat{c}_{i+1,\\sigma}+\\hat{c}^\\dagger_{i+1,\\sigma}\\hat{c}_{i,\\sigma}]$\n",
    "\n",
    "phonon displacement can be written using the bosonic creation and anihilation operators as below:\n",
    "\n",
    "$\\hat{X}_i = \\frac{1}{\\sqrt{2M\\Omega_0}}(\\hat{b}^\\dagger_i + \\hat{b}_i)$\n",
    "\n",
    "by insertig above $\\hat{X}_i$ relation in the Hamiltonian equation and by doing a fourier transformation in to momentum space it is possible to obtain below formula:\n",
    "\n",
    "$H_{e-ph} = \\frac{1}{\\sqrt{N}}\\sum_{k,q,\\sigma}g_{B}(k,q)[\\hat{b}^\\dagger_{-q}+\\hat{b}{q}]\\hat{c}^\\dagger_{\\sigma,k+q}\\hat{c}_{\\sigma,k}$\n",
    "\n",
    "Where the vertex function $g(k,q)$ can be writen as below for Bond SSH model,\n",
    "\n",
    "$g_{B}(k,q) = (\\frac{\\alpha_b}{\\sqrt{2M\\Omega_b}})\\cdot[2e^{\\iota q\\cdot a/2}cos([k+q/2]\\cdot a)] = g_b \\cdot f_b(k,q)$\n",
    "\n",
    "\n",
    "Where,\n",
    "\n",
    "$g_b = \\frac{\\alpha_b}{\\sqrt{2M\\Omega_b}}$\n",
    "\n",
    "$f_b(k,q) = 2e^{\\iota q\\cdot a/2}cos([k+q/2]\\cdot a)$\n",
    "\n",
    "$max\\{ |f_b(k,q)|^2| \\} = 4$"
   ]
  },
  {
   "attachments": {},
   "cell_type": "markdown",
   "metadata": {},
   "source": [
    "<font color = blue> Below part will introduce all the parameters that are used to calculate the dimensionless coupling constant and approximated values of it for Bond SSH model. Each will introduce using a comment</font>"
   ]
  },
  {
   "cell_type": "code",
   "execution_count": 43,
   "metadata": {},
   "outputs": [],
   "source": [
    "# include phonon frequency and microscopic coupling for model\n",
    "Ω_B = 0.1; # B.SSH phonon frequency\n",
    "α_B = 0.1; # Microscopic coupling for B.SSH model\n",
    "\n",
    "# lattice and tight binding parameters\n",
    "a₀ = 1.0; # lattice constant for 1-D chain \n",
    "N = 1000; # number of sites of the chain\n",
    "M = 1.0;  # mass of the phonons\n",
    "\n",
    "ϵ = 0.0;  # onsite energy of the tight binding model\n",
    "μ = 0.0;  # chemical potential of the tight-binding model\n",
    "t = 1.0;  # happing amplitude between nearest neighbour of the tigh-binding model\n",
    "\n",
    "# lorentzian parameters\n",
    "Γ = 0.1;  # width of the lorentzian\n",
    "x₀ = μ;   # position of the peak of the lorentzian which is the chemical potential\n",
    "\n",
    "# simulation parameters\n",
    "\n",
    "k_arr = LinRange(0,2*pi,N+1); # make N+1 k-points as the last element is double counted and needed to remove\n",
    "\n",
    "k_arr = LinRange(k_arr[1], k_arr[end-1], length(k_arr)-1) # remove the last element of the array\n",
    "q_arr =k_arr; # make another momeentu array"
   ]
  },
  {
   "attachments": {},
   "cell_type": "markdown",
   "metadata": {},
   "source": [
    "## <font color='gren'> METHOD 1</font>"
   ]
  },
  {
   "attachments": {},
   "cell_type": "markdown",
   "metadata": {},
   "source": [
    "There are two aproximation methods and exact method of calculating the dimensionless coupling constant for these models, thus it is needed to introduce new parameter to differentiate between those $\\lambda$ values. Under this section following method of approximation is used. where it is taken that $g_b(k,q)$ is independent of $k,q$ and taken as a constant over entire Fermi-surface,\n",
    "\n",
    "$\\lambda_B^{CONST} = \\frac{2\\eta(0)g_b^2}{\\hbar \\Omega_b}max\\{ |f_b(k,q)|^2| \\} = \\frac{4\\alpha_b^2\\eta(0)}{\\Omega_b^2}\\sim\\frac{4\\alpha_b^2}{W\\Omega_b^2} = \\frac{4\\alpha_b^2}{4t\\Omega_b^2} = \\frac{\\alpha_b^2}{\\Omega_b^2t}$\n",
    "\n"
   ]
  },
  {
   "cell_type": "code",
   "execution_count": 52,
   "metadata": {},
   "outputs": [
    {
     "name": "stdout",
     "output_type": "stream",
     "text": [
      "Approximation Method 1:  0.19980899999999993\n"
     ]
    }
   ],
   "source": [
    "# calculate the dimensionless coupling from method 1\n",
    "\n",
    "λᴮ_CNST = (α_B,Ω_B) -> (α_B^2)/(Ω_B^2);\n",
    "println(\"Approximation Method 1:  \"*string(λᴮ_CNST(α_B,Ω_B)));\n"
   ]
  },
  {
   "attachments": {},
   "cell_type": "markdown",
   "metadata": {},
   "source": [
    "## <font color='gren'> METHOD 2</font>"
   ]
  },
  {
   "attachments": {},
   "cell_type": "markdown",
   "metadata": {},
   "source": [
    "The following is the second method of approximation of $\\lambda$. For this approximation average over 1-BZ is taken instead of the double average over Fermi-surface. \n",
    "\n",
    "$\\lambda_B^{BZ} = \\frac{2\\eta(0)}{\\hbar\\Omega} \\frac{1}{N^2}\\sum_{k,q} |g(k,q)|^2$\n",
    "\n",
    "By converting above expression in to the integration form\n",
    "\n",
    "$\\lambda_B^{BZ} = \\frac{2\\eta(0)}{\\hbar\\Omega} \\frac{\\int dk \\int dq |g(k,q)|^2}{\\int \\int dk dq}$\n",
    "\n",
    "$\\lambda_B^{BZ} = \\frac{2\\eta(0)}{\\hbar\\Omega} \\cdot CONS\\_INT  = \\frac{2\\alpha_b^2\\eta(0)}{\\Omega_b^2} \\sim \\frac{2\\alpha_b^2}{W\\Omega_b^2} = \\frac{\\alpha_b^2}{2\\Omega_b^2} $ as $w=4t$ for 1-D chain"
   ]
  },
  {
   "cell_type": "code",
   "execution_count": 21,
   "metadata": {},
   "outputs": [
    {
     "name": "stdout",
     "output_type": "stream",
     "text": [
      "Approximation Method 2:  0.09990449999999997\n"
     ]
    }
   ],
   "source": [
    "# calculate the dimensionless coupling from method 2\n",
    "\n",
    "λᴮ_BZAG = (α_B,Ω_B) -> (α_B^2)/(2*Ω_B^2);\n",
    "\n",
    "println(\"Approximation Method 2:  \"*string(λᴮ_BZAG(α_B,Ω_B)));"
   ]
  },
  {
   "attachments": {},
   "cell_type": "markdown",
   "metadata": {},
   "source": [
    "## <font color='gren'> Method 3 </font>"
   ]
  },
  {
   "attachments": {},
   "cell_type": "markdown",
   "metadata": {},
   "source": [
    "This is the exact method of calculating the $\\lambda$. To calculate the Fermi-surface average numerically the density of state $\\eta(\\epsilon_k)$ is aproximated by lorentzian function as shown below. And also these calculations are done at $T = 0 K$\n",
    "\n",
    "\n",
    "$\\langle\\langle g(k,q) \\rangle\\rangle_{FS} =  \\frac{\\sum_{k,q}\\delta(\\epsilon(k))\\delta(\\epsilon(k+q))|g(k,q)|^2}{\\sum_{k,q}\\delta(\\epsilon(k))\\delta(\\epsilon(k+q))}$"
   ]
  },
  {
   "attachments": {},
   "cell_type": "markdown",
   "metadata": {},
   "source": [
    "density of states at T = 0 is $\\eta(0) = \\frac{1}{N} \\sum_{k} \\delta(\\epsilon_k)$"
   ]
  },
  {
   "attachments": {},
   "cell_type": "markdown",
   "metadata": {},
   "source": [
    "dimensionless coulpling $\\lambda_{B}(q) = \\frac{2}{N\\eta(0)}\\sum_k \\frac{4g^2}{\\Omega_q}cos^2[(k+q/2)a] \\delta(\\epsilon(k))\\delta(\\epsilon(k+q))$"
   ]
  },
  {
   "attachments": {},
   "cell_type": "markdown",
   "metadata": {},
   "source": [
    "Dimensionless coupling $\\lambda_{B} = \\frac{1}{N}\\sum_q \\lambda(q)$"
   ]
  },
  {
   "cell_type": "code",
   "execution_count": 44,
   "metadata": {},
   "outputs": [
    {
     "name": "stdout",
     "output_type": "stream",
     "text": [
      "Fermi-Surface Average method:  0.31791274331400166\n"
     ]
    }
   ],
   "source": [
    "# energy dispersion relation for tight binding model in 1-D\n",
    "ϵₜ = (k,ϵ,μ,t) -> ϵ-μ-2*t*cos(k*a₀);\n",
    "\n",
    "# lorentzian for delta-function\n",
    "LRTZ = (x,x₀,Γ) -> 1/(π*Γ*(1+((x-x₀)/Γ)^2));\n",
    "\n",
    "#density of states\n",
    "function DNST(k_arr,ϵ,μ,t,x₀,Γ,N)\n",
    "    ϵ_arr    = [ϵₜ(k,ϵ,μ,t) for k in k_arr]; # create array of energy values for tight-binding model \n",
    "    LRTZ_ARR = [LRTZ(ϵ_VAL,x₀,Γ) for ϵ_VAL in ϵ_arr]; # lorentzian array   \n",
    "    DNST_VAL = (1/N)*(sum(LRTZ_ARR));\n",
    "    return DNST_VAL;\n",
    "end\n",
    "\n",
    "# calculate the λ_FS(q) \n",
    "function λ_FS_BSSH_q(k_arr,q,ϵ,μ,t,x₀,Γ,N,α_B,Ω_B)\n",
    "\n",
    "    #part outside the summation\n",
    "    DNST_VAL = DNST(k_arr,ϵ,μ,t,x₀,Γ,N);\n",
    "    PRFT = (2/(N*DNST_VAL));\n",
    "\n",
    "    #summation part\n",
    "    g = α_B/sqrt(2*M*Ω_B);\n",
    "    Ω_q = Ω_B;\n",
    "    SMFT = (k,q) -> (4*(g^2)/Ω_q)*(cos(k*a₀+q*a₀/2)^2)*LRTZ(ϵₜ(k,ϵ,μ,t),x₀,Γ)*LRTZ(ϵₜ(k+q,ϵ,μ,t),x₀,Γ);\n",
    "    \n",
    "    λ_q_BSSH = PRFT*sum([SMFT(k_val,q) for k_val in k_arr]);\n",
    "    \n",
    "    return λ_q_BSSH;\n",
    "end\n",
    "\n",
    "# calculate the λ_FS_BSSH\n",
    "λ_BSSH = (k_arr,q_arr,ϵ,μ,t,x₀,Γ,N,α_B,Ω_B) -> (1/N)*sum([λ_FS_BSSH_q(k_arr,q_val,ϵ,μ,t,x₀,Γ,N,α_B,Ω_B) for q_val in q_arr]);\n",
    "\n",
    "println(\"Fermi-Surface Average method:  \"*string(λ_BSSH(k_arr,q_arr,ϵ,μ,t,x₀,Γ,N,α_B,Ω_B)));"
   ]
  },
  {
   "attachments": {},
   "cell_type": "markdown",
   "metadata": {},
   "source": [
    "### Dimensionless coupling for B.SSH by applying three different methods"
   ]
  },
  {
   "attachments": {},
   "cell_type": "markdown",
   "metadata": {},
   "source": [
    "The below part contain summary of dimensionless coupling values obtained for Bond SSH model."
   ]
  },
  {
   "cell_type": "code",
   "execution_count": 23,
   "metadata": {},
   "outputs": [
    {
     "name": "stdout",
     "output_type": "stream",
     "text": [
      "Approximation Method 1:  0.19980899999999993\n",
      "Approximation Method 2:  0.09990449999999997\n",
      "Fermi-Surface Average method:  0.06352182732882727\n"
     ]
    }
   ],
   "source": [
    "println(\"Approximation Method 1:  \"*string(λᴮ_CNST(α_B,Ω_B)));\n",
    "println(\"Approximation Method 2:  \"*string(λᴮ_BZAG(α_B,Ω_B)));\n",
    "println(\"Fermi-Surface Average method:  \"*string(λ_BSSH(k_arr,q_arr,ϵ,μ,t,x₀,Γ,N,α_B,Ω_B)));"
   ]
  },
  {
   "attachments": {},
   "cell_type": "markdown",
   "metadata": {},
   "source": [
    "## <font color='red'> Optical SSH model </font>"
   ]
  },
  {
   "attachments": {},
   "cell_type": "markdown",
   "metadata": {},
   "source": [
    "Under this section we will derive expressions for dimensionless coupling values of Optical SSH model. This method is quite similar to that of B.SSH model, as both of those models uses optical phonons. Thus similar to the previous case of B.SSH model the phonon frequency at momantum $\\vec q$ can be written as shown below.\n",
    "\n",
    "$\\Omega_q = \\Omega_o$\n",
    "\n",
    "The difference between those two models lies in the way the vibrational modes couple's to the hopping term of the Hamiltonian. Unlike in B.SSH model where bond can be streched without effecting distances between other neighbouring sites(phonons are placed on the bond it-self), here in optical SSH model phonons are place on the sites themselves. Displacment on single site can effect all nearst neighbour sites. This can be observe din the real space Hamiltonian for O.SSH model(e-ph coupling part of the Hamiltonian):\n",
    "\n",
    "$H_{e-ph} = \\alpha\\sum_{i} (\\hat{X}_i -\\hat{X}_{i+1} )[\\hat{c}^\\dagger_{i,\\sigma}\\hat{c}_{i+1,\\sigma}+\\hat{c}^\\dagger_{i+1,\\sigma}\\hat{c}_{i,\\sigma}]$\n",
    "\n",
    "It is possible to re-write the above expression in the form below by considering the periodicity of position vector, doing the substitute $i+1 = j$\n",
    "\n",
    "$H_{e-ph} = \\alpha\\sum_{i}\\hat{X}_i [\\hat{c}^\\dagger_{i,\\sigma}\\hat{c}_{i+1,\\sigma}+\\hat{c}^\\dagger_{i+1,\\sigma}\\hat{c}_{i,\\sigma}]-\\alpha\\sum_{j}\\hat{X}_j [\\hat{c}^\\dagger_{j-1,\\sigma}\\hat{c}_{j,\\sigma}+\\hat{c}^\\dagger_{j,\\sigma}\\hat{c}_{j-1,\\sigma}]$\n",
    "\n",
    "replacing $j \\to i $ in the second part of the above equation it is possible too re-write above expression in the follwing form,\n",
    "\n",
    "$H_{e-ph} = \\alpha\\sum_{i}\\hat{X}_i [\\hat{c}^\\dagger_{i,\\sigma}\\hat{c}_{i+1,\\sigma}+\\hat{c}^\\dagger_{i+1,\\sigma}\\hat{c}_{i,\\sigma}-\\hat{c}^\\dagger_{j-1,\\sigma}\\hat{c}_{j,\\sigma}-\\hat{c}^\\dagger_{j,\\sigma}\\hat{c}_{j-1,\\sigma}]$\n",
    "\n",
    "Replacing the $\\hat X_i$ and $\\hat X_{i+1}$ with there $\\hat b_i$ and $\\hat b_i^\\dagger$ counterparts in the above Hamiltonian and then Fourier transforming the equations in to momentum space it is possible to express this Hamiltonian in the form below.\n",
    "\n",
    "$H_{e-ph} = \\frac{1}{\\sqrt{N}}\\sum_{k,q,\\sigma}g_{O}(k,q)[\\hat{b}^\\dagger_{-q}+\\hat{b}{q}]\\hat{c}^\\dagger_{\\sigma,k+q}\\hat{c}_{\\sigma,k}$\n",
    "\n",
    "The vertex function $g_{O.SSH}(k,q)$ can be written in the form bellow,\n",
    "\n",
    "$g_{O}(k,q) = (\\frac{\\alpha_o}{\\sqrt{2M\\Omega_o}})\\cdot(2\\iota[sin((k+q)a)-sin(ka)])=g_o\\cdot f_o(k,q)$\n",
    "\n",
    "Where,\n",
    "\n",
    "$g_o = \\frac{\\alpha_o}{\\sqrt{2M\\Omega_o}}$\n",
    "\n",
    "$f_o(k,q) = 2\\iota[sin((k+q)a)-sin(ka)]$\n",
    "\n",
    "$max\\{|f_o(k,q)|^2\\} = 16$"
   ]
  },
  {
   "attachments": {},
   "cell_type": "markdown",
   "metadata": {},
   "source": [
    "<font color = blue> Below part will introduce all the parameters that are used to calculate the dimensionless coupling constant and approximated values of it for optical SSH model. Each will introduce using a comment</font>"
   ]
  },
  {
   "cell_type": "code",
   "execution_count": 24,
   "metadata": {},
   "outputs": [],
   "source": [
    "# include phonon frequency and microscopic coupling for model\n",
    "Ω_O = 0.1; # O.SSH phonon frequency\n",
    "α_O = 0.1; # Microscopic coupling for O.SSH model\n",
    "\n",
    "# lattice and tight binding parameters\n",
    "a₀ = 1.0; # lattice constant for 1-D chain \n",
    "N = 1000; # number of sites of the chain\n",
    "M = 1.0;  # mass of the phonons\n",
    "\n",
    "ϵ = 0.0;  # onsite energy of the tight binding model\n",
    "μ = 0.0;  # chemical potential of the tight-binding model\n",
    "t = 1.0;  # happing amplitude between nearest neighbour of the tigh-binding model\n",
    "\n",
    "# lorentzian parameters\n",
    "Γ = 0.1;  # width of the lorentzian\n",
    "x₀ = μ;   # position of the peak of the lorentzian which is the chemical potential\n",
    "\n",
    "# simulation parameters\n",
    "\n",
    "k_arr = LinRange(0,2*pi,N+1); # make N+1 k-points as the last element is double counted and needed to remove\n",
    "\n",
    "k_arr = LinRange(k_arr[1], k_arr[end-1], length(k_arr)-1) # remove the last element of the array\n",
    "q_arr =k_arr; # make another momeentu array"
   ]
  },
  {
   "attachments": {},
   "cell_type": "markdown",
   "metadata": {},
   "source": [
    "## <font color='gren'> METHOD 1</font>\n",
    "\n",
    "Similar to the previous approximation method done on the B.SSH model method 1, here we have taken the vertex function $g(k,q)$ to be a function that is independent of momentum vectors $\\vec k , \\vec q $ \n",
    "\n",
    "$\\lambda_O^{CONST} = \\frac{2\\eta(0)g_o^2}{\\hbar \\Omega_o}max\\{ |f_o(k,q)|^2| \\} = \\frac{16\\alpha_o^2\\eta(0)}{\\Omega_o^2}\\sim\\frac{16\\alpha_o^2}{W\\Omega_o^2} = \\frac{16\\alpha_o^2}{4t\\Omega_o^2} = \\frac{4\\alpha_o^2}{\\Omega_o^2t}$"
   ]
  },
  {
   "cell_type": "code",
   "execution_count": 51,
   "metadata": {},
   "outputs": [
    {
     "name": "stdout",
     "output_type": "stream",
     "text": [
      "Approximation Method 1:  0.7992359999999997\n"
     ]
    }
   ],
   "source": [
    "# calculate the dimensionless coupling from method 1\n",
    "\n",
    "λᵒ_CNST = (α_O,Ω_O) -> (4*α_O^2)/(Ω_O^2);\n",
    "println(\"Approximation Method 1:  \"*string(λᵒ_CNST(α_O,Ω_O)));"
   ]
  },
  {
   "attachments": {},
   "cell_type": "markdown",
   "metadata": {},
   "source": [
    "## <font color='gren'> METHOD 2</font>"
   ]
  },
  {
   "attachments": {},
   "cell_type": "markdown",
   "metadata": {},
   "source": [
    "Similar to the previous second method of approximation of $\\lambda$ for Bond SSH model. For this approximation average over 1-BZ is taken instead of the double average over Fermi-surface. \n",
    "\n",
    "$\\lambda_O^{BZ} = \\frac{2\\eta(0)}{\\hbar\\Omega} \\frac{1}{N^2}\\sum_{k,q} |g(k,q)|^2$\n",
    "\n",
    "By converting above expression in to the integration form\n",
    "\n",
    "$\\lambda_O^{BZ} = \\frac{2\\eta(0)}{\\hbar\\Omega} \\frac{\\int dk \\int dq |g(k,q)|^2}{\\int \\int dk dq}$\n",
    "\n",
    "$\\lambda_O^{BZ} = \\frac{4\\eta(0)}{\\hbar\\Omega} \\cdot CONS\\_INT = \\frac{4\\alpha_o^2\\eta(0)}{\\Omega_o^2} \\sim \\frac{4\\alpha_o^2}{W\\Omega_o^2} = \\frac{\\alpha_o^2}{\\Omega_o^2} $ as $w=4t$ for 1-D chain"
   ]
  },
  {
   "cell_type": "code",
   "execution_count": 55,
   "metadata": {},
   "outputs": [
    {
     "name": "stdout",
     "output_type": "stream",
     "text": [
      "Approximation Method 2:  0.19980899999999993\n"
     ]
    }
   ],
   "source": [
    "# calculate the dimensionless coupling from method 2\n",
    "\n",
    "λᵒ_BZAG = (α_O,Ω_O) -> (α_O^2)/(Ω_O^2);\n",
    "\n",
    "println(\"Approximation Method 2:  \"*string(λᵒ_BZAG(α_O,Ω_O)));"
   ]
  },
  {
   "attachments": {},
   "cell_type": "markdown",
   "metadata": {},
   "source": [
    "## <font color='gren'> Method 3 </font>"
   ]
  },
  {
   "attachments": {},
   "cell_type": "markdown",
   "metadata": {},
   "source": [
    "under this method $\\lambda$ is calculated by using double average over the Fermi-surface"
   ]
  },
  {
   "cell_type": "code",
   "execution_count": 28,
   "metadata": {},
   "outputs": [
    {
     "name": "stdout",
     "output_type": "stream",
     "text": [
      "Fermi-Surface Average method:  1.2111681234523881\n"
     ]
    }
   ],
   "source": [
    "# energy dispersion relation for tight binding model in 1-D\n",
    "ϵₜ = (k,ϵ,μ,t) -> ϵ-μ-2*t*cos(k*a₀);\n",
    "\n",
    "# lorentzian for delta-function\n",
    "LRTZ = (x,x₀,Γ) -> 1/(π*Γ*(1+((x-x₀)/Γ)^2));\n",
    "\n",
    "#density of states\n",
    "function DNST(k_arr,ϵ,μ,t,x₀,Γ,N)\n",
    "    ϵ_arr    = [ϵₜ(k,ϵ,μ,t) for k in k_arr]; # create array of energy values for tight-binding model \n",
    "    LRTZ_ARR = [LRTZ(ϵ_VAL,x₀,Γ) for ϵ_VAL in ϵ_arr]; # lorentzian array   \n",
    "    DNST_VAL = (1/N)*(sum(LRTZ_ARR));\n",
    "    return DNST_VAL;\n",
    "end\n",
    "\n",
    "# calculate the λ_FS(q) \n",
    "function λ_FS_OSSH_q(k_arr,q,ϵ,μ,t,x₀,Γ,N,α_O,Ω_O)\n",
    "\n",
    "    #part outside the summation\n",
    "    DNST_VAL = DNST(k_arr,ϵ,μ,t,x₀,Γ,N);\n",
    "    PRFT = (2/(N*DNST_VAL));\n",
    "\n",
    "    #summation part\n",
    "    g = α_O/sqrt(2*M*Ω_O);\n",
    "    Ω_q = Ω_O;\n",
    "    SMFT = (k,q) -> (16*(g^2)/Ω_q)*((sin(q*a₀/2)^2)*(cos(k*a₀+q*a₀/2)^2))*LRTZ(ϵₜ(k,ϵ,μ,t),x₀,Γ)*LRTZ(ϵₜ(k+q,ϵ,μ,t),x₀,Γ);\n",
    "    \n",
    "    λ_q_OSSH = PRFT*sum([SMFT(k_val,q) for k_val in k_arr]);\n",
    "    \n",
    "    return λ_q_OSSH;\n",
    "end\n",
    "\n",
    "# calculate the λ_FS_BSSH\n",
    "λ_OSSH = (k_arr,q_arr,ϵ,μ,t,x₀,Γ,N,α_O,Ω_O) -> (1/N)*sum([λ_FS_OSSH_q(k_arr,q_val,ϵ,μ,t,x₀,Γ,N,α_O,Ω_O) for q_val in q_arr]);\n",
    "\n",
    "println(\"Fermi-Surface Average method:  \"*string(λ_OSSH(k_arr,q_arr,ϵ,μ,t,x₀,Γ,N,α_O,Ω_O)));"
   ]
  },
  {
   "attachments": {},
   "cell_type": "markdown",
   "metadata": {},
   "source": [
    "### Dimensionless coupling for B.SSH by applying three different methods"
   ]
  },
  {
   "attachments": {},
   "cell_type": "markdown",
   "metadata": {},
   "source": [
    "The below part contain summary of dimensionless coupling values obtained for Bond SSH model."
   ]
  },
  {
   "cell_type": "code",
   "execution_count": 29,
   "metadata": {},
   "outputs": [
    {
     "name": "stdout",
     "output_type": "stream",
     "text": [
      "Approximation Method 1:  4.0\n",
      "Approximation Method 2:  0.5\n",
      "Fermi-Surface Average method:  1.2111681234523881\n"
     ]
    }
   ],
   "source": [
    "println(\"Approximation Method 1:  \"*string(λᵒ_CNST(α_O,Ω_O)));\n",
    "println(\"Approximation Method 2:  \"*string(λᵒ_BZAG(α_O,Ω_O)));\n",
    "println(\"Fermi-Surface Average method:  \"*string(λ_OSSH(k_arr,q_arr,ϵ,μ,t,x₀,Γ,N,α_O,Ω_O)));"
   ]
  },
  {
   "attachments": {},
   "cell_type": "markdown",
   "metadata": {},
   "source": [
    "## <font color='red'> Acoustic SSH model </font>"
   ]
  },
  {
   "attachments": {},
   "cell_type": "markdown",
   "metadata": {},
   "source": [
    "Unlike previous models, the model discussed here contains acoustic phonons instead of optical phonons. \n",
    "This section we will derive expressions for dimensionless coupling values of Acoustic SSH model. The phonon frequency at momantum $\\vec q$ can be written as shown below.\n",
    "\n",
    "$\\Omega_q = 2\\Omega_a|sin(qa/2)|$\n",
    "\n",
    "This model has electron-phonon coupling Hamiltonian that is similar to the optical model\n",
    "\n",
    "$H_{e-ph} = \\alpha\\sum_{i} (\\hat{X}_i -\\hat{X}_{i+1} )[\\hat{c}^\\dagger_{i,\\sigma}\\hat{c}_{i+1,\\sigma}+\\hat{c}^\\dagger_{i+1,\\sigma}\\hat{c}_{i,\\sigma}]$\n",
    "\n",
    "It is possible to re-write the above expression in the form below by considering the periodicity of position vector, doing the substitute $i+1 = j$\n",
    "\n",
    "$H_{e-ph} = \\alpha\\sum_{i}\\hat{X}_i [\\hat{c}^\\dagger_{i,\\sigma}\\hat{c}_{i+1,\\sigma}+\\hat{c}^\\dagger_{i+1,\\sigma}\\hat{c}_{i,\\sigma}]-\\alpha\\sum_{j}\\hat{X}_j [\\hat{c}^\\dagger_{j-1,\\sigma}\\hat{c}_{j,\\sigma}+\\hat{c}^\\dagger_{j,\\sigma}\\hat{c}_{j-1,\\sigma}]$\n",
    "\n",
    "replacing $j \\to i $ in the second part of the above equation it is possible too re-write above expression in the follwing form,\n",
    "\n",
    "$H_{e-ph} = \\alpha\\sum_{i}\\hat{X}_i [\\hat{c}^\\dagger_{i,\\sigma}\\hat{c}_{i+1,\\sigma}+\\hat{c}^\\dagger_{i+1,\\sigma}\\hat{c}_{i,\\sigma}-\\hat{c}^\\dagger_{j-1,\\sigma}\\hat{c}_{j,\\sigma}-\\hat{c}^\\dagger_{j,\\sigma}\\hat{c}_{j-1,\\sigma}]$\n",
    "\n",
    "unlike previous case where the position operator can be easily written using bosonic creation and anihilation operators here it is litle different as the phonon frequncy part has a momentum dependace part within it.\n",
    "\n",
    "$\\hat{X}_i = \\frac{1}{\\sqrt{2M\\Omega(q)}}(\\hat{b}^\\dagger_i + \\hat{b}_i)$\n",
    "\n",
    "by considering these relations it is possible to write Hamiltonian in a form similar to the previous teo models\n",
    "\n",
    "$H_{e-ph} = \\frac{1}{\\sqrt{N}}\\sum_{k,q,\\sigma}g_{A}(k,q)[\\hat{b}^\\dagger_{-q}+\\hat{b}{q}]\\hat{c}^\\dagger_{\\sigma,k+q}\\hat{c}_{\\sigma,k}$\n",
    "\n",
    "Because of the momentum dependace of the $\\Omega$ in acoustic model new definition is needed for $g_a$ which will valid for all three model.\n",
    "\n",
    "$g_a = \\frac{\\alpha_A}{\\sqrt{2M\\cdot max\\{ \\Omega_q \\}}} = \\frac{\\alpha_A}{\\sqrt{4\\Omega_A}} =\\frac{\\alpha_A}{2\\Omega_A} $\n",
    "\n",
    "Where the vertex function takes follwing form,\n",
    "\n",
    "$g_A(k,q) = (\\frac{\\alpha_A}{2\\sqrt{\\Omega_A}}) \\cdot [\\iota 4\\sqrt{|sin(qa/2|}cos([k+q/2]a)] = g_a \\cdot f(k,q)$\n",
    "\n",
    "Where \n",
    "\n",
    "$f(k,q) = \\iota 4\\sqrt{|sin(qa/2|}cos([k+q/2]a)$\n",
    "\n",
    "$max\\{|f(k,q)|^2\\} = 16$"
   ]
  },
  {
   "attachments": {},
   "cell_type": "markdown",
   "metadata": {},
   "source": [
    "<font color = blue> Below part will introduce all the parameters that are used to calculate the dimensionless coupling constant and approximated values of it for Bond SSH model. Each will introduce using a comment</font>"
   ]
  },
  {
   "cell_type": "code",
   "execution_count": 38,
   "metadata": {},
   "outputs": [],
   "source": [
    "# include phonon frequency and microscopic coupling for model\n",
    "Ω_A = 0.1; # A.SSH phonon frequency\n",
    "α_A = 0.1; # Microscopic coupling for A.SSH model\n",
    "\n",
    "# lattice and tight binding parameters\n",
    "a₀ = 1.0; # lattice constant for 1-D chain \n",
    "N = 1000; # number of sites of the chain\n",
    "M = 1.0;  # mass of the phonons\n",
    "\n",
    "ϵ = 0.0;  # onsite energy of the tight binding model\n",
    "μ = 0.0;  # chemical potential of the tight-binding model\n",
    "t = 1.0;  # happing amplitude between nearest neighbour of the tigh-binding model\n",
    "\n",
    "# lorentzian parameters\n",
    "Γ = 0.1;  # width of the lorentzian\n",
    "x₀ = μ;   # position of the peak of the lorentzian which is the chemical potential\n",
    "\n",
    "# simulation parameters\n",
    "\n",
    "k_arr = LinRange(0,2*pi,N+1); # make N+1 k-points as the last element is double counted and needed to remove\n",
    "\n",
    "k_arr = LinRange(k_arr[1], k_arr[end-1], length(k_arr)-1) # remove the last element of the array\n",
    "q_arr =k_arr; # make another momeentu array"
   ]
  },
  {
   "attachments": {},
   "cell_type": "markdown",
   "metadata": {},
   "source": [
    "## <font color='gren'> METHOD 1</font>\n",
    "\n",
    "Similar to the previous approximation methods done for method 1, here we have taken the vertex function $g(k,q)$ to be a function that is independent of momentum vectors $\\vec k , \\vec q $ \n",
    "\n",
    "$\\lambda_A^{CONST} = \\frac{2\\eta(0)g_a^2}{\\hbar \\Omega_q}max\\{ |f_a(k,q)|^2| \\} = \\frac{16\\alpha_a^2\\eta(0)}{4w\\Omega_a^2}\\sim\\frac{\\alpha_a^2}{W\\cdot \\Omega_a^2} = \\frac{\\alpha_a^2}{\\Omega_a^2} = \\frac{\\alpha_a^2}{\\Omega_a^2t}$"
   ]
  },
  {
   "cell_type": "code",
   "execution_count": 39,
   "metadata": {},
   "outputs": [
    {
     "name": "stdout",
     "output_type": "stream",
     "text": [
      "Approximation Method 1:  1.0\n"
     ]
    }
   ],
   "source": [
    "# calculate the dimensionless coupling from method 1\n",
    "\n",
    "λᵃ_CNST = (α_A,Ω_A) -> (α_A^2)/(Ω_A^2);\n",
    "println(\"Approximation Method 1:  \"*string(λᵃ_CNST(α_A,Ω_A)));"
   ]
  },
  {
   "attachments": {},
   "cell_type": "markdown",
   "metadata": {},
   "source": [
    "## <font color='gren'> METHOD 2</font>\n",
    "\n",
    "similar to previous cases the average over 1-BZ is considered.\n",
    "\n",
    "$\\lambda_A^{BZ} = \\frac{2\\eta(0)}{\\hbar} \\frac{1}{ N^2}\\sum_{k,q}\\frac{1}{\\Omega_q} |g(k,q)|^2$\n",
    "\n",
    "By converting above expression in to the integration form\n",
    "\n",
    "$\\lambda_A^{BZ} = \\frac{2\\eta(0)}{\\hbar} \\frac{\\int dk \\int dq |g(k,q)|^2\\frac{1}{\\Omega_q}}{\\int \\int dk dq}$\n",
    "\n",
    "$\\lambda_A^{BZ} = \\frac{2\\eta(0)}{\\hbar\\Omega_a}\\cdot CONS\\_INT  = \\frac{2\\alpha_o^2\\eta(0)}{\\Omega_a^2} \\sim \\frac{2\\alpha_a^2}{W\\Omega_a^2} = \\frac{\\alpha_b^2}{2\\Omega_b^2} $ as $w=4t$ for 1-D chain"
   ]
  },
  {
   "cell_type": "code",
   "execution_count": 40,
   "metadata": {},
   "outputs": [
    {
     "name": "stdout",
     "output_type": "stream",
     "text": [
      "Approximation Method 2:  0.5\n"
     ]
    }
   ],
   "source": [
    "# calculate the dimensionless coupling from method 2\n",
    "\n",
    "λᵃ_BZAG = (α_A,Ω_A) -> (α_A^2)/(2*Ω_A^2);\n",
    "\n",
    "println(\"Approximation Method 2:  \"*string(λᵃ_BZAG(α_A,Ω_A)));"
   ]
  },
  {
   "attachments": {},
   "cell_type": "markdown",
   "metadata": {},
   "source": [
    "## <font color='gren'> METHOD 3</font>\n",
    "\n",
    "Similar to the previous calculation here the $\\lambda$ for A.SSH is calculated by take double average over the Fermi-surface.\n",
    "\n",
    "$\\lambda_A^{FS}(q) = \\frac{2}{N\\eta(0)}\\sum_k \\frac{|g(k,q)|^2\\delta(\\epsilon(k))\\delta(\\epsilon(k+q))}{\\Omega_q}$\n",
    "\n",
    "$\\lambda_A^{FS}(q) = \\frac{2}{N\\eta(0)}\\sum_k \\frac{g_a^2\\cdot 16 |sin(qa/2)|cos^2([k+q/2]a)\\delta(\\epsilon(k))\\delta(\\epsilon(k+q))}{2\\Omega_a|sin(qa/2)|} $\n",
    "\n",
    "$ \\lambda _A = \\frac{2}{N\\eta(0)}\\sum_k\\frac{8g^2}{\\Omega_a}cos^2[(k+q/2)a] \\delta(\\epsilon(k))\\delta(\\epsilon(k+q)) \n",
    "= \\frac{2}{N\\eta(0)}\\sum_k\\frac{4(\\alpha_a^2/\\Omega_A)}{\\Omega_a}cos^2[(k+q/2)a] \\delta(\\epsilon(k))\\delta(\\epsilon(k+q))$\n",
    "\n",
    "When compare the last term it is similar to that of Bond SSH model."
   ]
  },
  {
   "cell_type": "code",
   "execution_count": 58,
   "metadata": {},
   "outputs": [
    {
     "name": "stdout",
     "output_type": "stream",
     "text": [
      "Fermi-Surface Average method:  0.06352182732882727\n"
     ]
    }
   ],
   "source": [
    "# energy dispersion relation for tight binding model in 1-D\n",
    "ϵₜ = (k,ϵ,μ,t) -> ϵ-μ-2*t*cos(k*a₀);\n",
    "\n",
    "# lorentzian for delta-function\n",
    "LRTZ = (x,x₀,Γ) -> 1/(π*Γ*(1+((x-x₀)/Γ)^2));\n",
    "\n",
    "#density of states\n",
    "function DNST(k_arr,ϵ,μ,t,x₀,Γ,N)\n",
    "    ϵ_arr    = [ϵₜ(k,ϵ,μ,t) for k in k_arr]; # create array of energy values for tight-binding model \n",
    "    LRTZ_ARR = [LRTZ(ϵ_VAL,x₀,Γ) for ϵ_VAL in ϵ_arr]; # lorentzian array   \n",
    "    DNST_VAL = (1/N)*(sum(LRTZ_ARR));\n",
    "    return DNST_VAL;\n",
    "end\n",
    "\n",
    "# calculate the λ_FS(q) \n",
    "function λ_FS_ASSH_q(k_arr,q,ϵ,μ,t,x₀,Γ,N,α_A,Ω_A)\n",
    "\n",
    "    #part outside the summation\n",
    "    DNST_VAL = DNST(k_arr,ϵ,μ,t,x₀,Γ,N);\n",
    "    PRFT = (2/(N*DNST_VAL));\n",
    "\n",
    "    #summation part\n",
    "    g = α_A/sqrt(2*M*Ω_B);\n",
    "    Ω_q = Ω_A;\n",
    "    SMFT = (k,q) -> (4*(g^2)/Ω_q)*(cos(k*a₀+q*a₀/2)^2)*LRTZ(ϵₜ(k,ϵ,μ,t),x₀,Γ)*LRTZ(ϵₜ(k+q,ϵ,μ,t),x₀,Γ);\n",
    "    \n",
    "    λ_q_ASSH = PRFT*sum([SMFT(k_val,q) for k_val in k_arr]);\n",
    "    \n",
    "    return λ_q_ASSH;\n",
    "end\n",
    "\n",
    "# calculate the λ_FS_ASSH\n",
    "λ_ASSH = (k_arr,q_arr,ϵ,μ,t,x₀,Γ,N,α_A,Ω_A) -> (1/N)*sum([λ_FS_ASSH_q(k_arr,q_val,ϵ,μ,t,x₀,Γ,N,α_A,Ω_A) for q_val in q_arr]);\n",
    "\n",
    "println(\"Fermi-Surface Average method:  \"*string(λ_ASSH(k_arr,q_arr,ϵ,μ,t,x₀,Γ,N,α_A,Ω_A)));"
   ]
  },
  {
   "attachments": {},
   "cell_type": "markdown",
   "metadata": {},
   "source": [
    "# Summary for all three models"
   ]
  },
  {
   "attachments": {},
   "cell_type": "markdown",
   "metadata": {},
   "source": [
    "## In this section the comparison for all three models under same $\\alpha$ and $\\Omega$ parameters are considered."
   ]
  },
  {
   "cell_type": "code",
   "execution_count": 45,
   "metadata": {},
   "outputs": [],
   "source": [
    "α_A = α_B = α_O = 0.0447;\n",
    "Ω_A = Ω_B = Ω_O = 0.1;"
   ]
  },
  {
   "cell_type": "code",
   "execution_count": 46,
   "metadata": {},
   "outputs": [],
   "source": [
    "# lattice and tight binding parameters\n",
    "a₀ = 1.0; # lattice constant for 1-D chain \n",
    "N = 1000; # number of sites of the chain\n",
    "M = 1.0;  # mass of the phonons\n",
    "\n",
    "ϵ = 0.0;  # onsite energy of the tight binding model\n",
    "μ = 0.0;  # chemical potential of the tight-binding model\n",
    "t = 1.0;  # happing amplitude between nearest neighbour of the tigh-binding model\n",
    "\n",
    "# lorentzian parameters\n",
    "Γ = 0.1;  # width of the lorentzian\n",
    "x₀ = μ;   # position of the peak of the lorentzian which is the chemical potential\n",
    "\n",
    "# simulation parameters\n",
    "\n",
    "k_arr = LinRange(0,2*pi,N+1); # make N+1 k-points as the last element is double counted and needed to remove\n",
    "\n",
    "k_arr = LinRange(k_arr[1], k_arr[end-1], length(k_arr)-1) # remove the last element of the array\n",
    "q_arr =k_arr; # make another momeentu array"
   ]
  },
  {
   "attachments": {},
   "cell_type": "markdown",
   "metadata": {},
   "source": [
    "### METHOD 1 "
   ]
  },
  {
   "cell_type": "code",
   "execution_count": 53,
   "metadata": {},
   "outputs": [
    {
     "name": "stdout",
     "output_type": "stream",
     "text": [
      "Approximation Method 1 B.SSH:  0.19980899999999993\n",
      "Approximation Method 1 O.SSH:  0.7992359999999997\n",
      "Approximation Method 1 A.SSH:  0.19980899999999993\n"
     ]
    }
   ],
   "source": [
    "println(\"Approximation Method 1 B.SSH:  \"*string(λᴮ_CNST(α_B,Ω_B)));\n",
    "println(\"Approximation Method 1 O.SSH:  \"*string(λᵒ_CNST(α_O,Ω_O)));\n",
    "println(\"Approximation Method 1 A.SSH:  \"*string(λᵃ_CNST(α_A,Ω_A)));"
   ]
  },
  {
   "attachments": {},
   "cell_type": "markdown",
   "metadata": {},
   "source": [
    "### METHOD 2"
   ]
  },
  {
   "cell_type": "code",
   "execution_count": 56,
   "metadata": {},
   "outputs": [
    {
     "name": "stdout",
     "output_type": "stream",
     "text": [
      "Approximation Method 2 B.SSH:  0.09990449999999997\n",
      "Approximation Method 2 O.SSH:  0.19980899999999993\n",
      "Approximation Method 2 A.SSH:  0.09990449999999997\n"
     ]
    }
   ],
   "source": [
    "println(\"Approximation Method 2 B.SSH:  \"*string(λᴮ_BZAG(α_B,Ω_B)));\n",
    "println(\"Approximation Method 2 O.SSH:  \"*string(λᵒ_BZAG(α_O,Ω_O)));\n",
    "println(\"Approximation Method 2 A.SSH:  \"*string(λᵃ_BZAG(α_A,Ω_A)));"
   ]
  },
  {
   "attachments": {},
   "cell_type": "markdown",
   "metadata": {},
   "source": [
    "### Fermi-Surface Average"
   ]
  },
  {
   "cell_type": "code",
   "execution_count": 60,
   "metadata": {},
   "outputs": [
    {
     "name": "stdout",
     "output_type": "stream",
     "text": [
      "Fermi-Surface Average method B.SSH:  0.06352182732882727\n",
      "Fermi-Surface Average method O.SSH:  0.2420022915788981\n",
      "Fermi-Surface Average method A.SSH:  0.06352182732882727\n"
     ]
    }
   ],
   "source": [
    "println(\"Fermi-Surface Average method B.SSH:  \"*string(λ_BSSH(k_arr,q_arr,ϵ,μ,t,x₀,Γ,N,α_B,Ω_B)));\n",
    "println(\"Fermi-Surface Average method O.SSH:  \"*string(λ_OSSH(k_arr,q_arr,ϵ,μ,t,x₀,Γ,N,α_O,Ω_O)));\n",
    "println(\"Fermi-Surface Average method A.SSH:  \"*string(λ_ASSH(k_arr,q_arr,ϵ,μ,t,x₀,Γ,N,α_A,Ω_A)));"
   ]
  },
  {
   "attachments": {},
   "cell_type": "markdown",
   "metadata": {},
   "source": [
    "## In below section let consider the phonon frequency to be Ω_B = Ω_O = 2·Ω_A"
   ]
  },
  {
   "cell_type": "code",
   "execution_count": 62,
   "metadata": {},
   "outputs": [],
   "source": [
    "α_A = α_B = α_O = 0.0447;\n",
    "Ω_O = Ω_B = 0.1;\n",
    "\n",
    "Ω_A = Ω_B/2;"
   ]
  },
  {
   "attachments": {},
   "cell_type": "markdown",
   "metadata": {},
   "source": [
    "### METHOD 1"
   ]
  },
  {
   "cell_type": "code",
   "execution_count": 63,
   "metadata": {},
   "outputs": [
    {
     "name": "stdout",
     "output_type": "stream",
     "text": [
      "Approximation Method 1 B.SSH:  0.19980899999999993\n",
      "Approximation Method 1 O.SSH:  0.7992359999999997\n",
      "Approximation Method 1 A.SSH:  0.7992359999999997\n"
     ]
    }
   ],
   "source": [
    "println(\"Approximation Method 1 B.SSH:  \"*string(λᴮ_CNST(α_B,Ω_B)));\n",
    "println(\"Approximation Method 1 O.SSH:  \"*string(λᵒ_CNST(α_O,Ω_O)));\n",
    "println(\"Approximation Method 1 A.SSH:  \"*string(λᵃ_CNST(α_A,Ω_A)));"
   ]
  },
  {
   "attachments": {},
   "cell_type": "markdown",
   "metadata": {},
   "source": [
    "### METHOD 2"
   ]
  },
  {
   "cell_type": "code",
   "execution_count": 64,
   "metadata": {},
   "outputs": [
    {
     "name": "stdout",
     "output_type": "stream",
     "text": [
      "Approximation Method 2 B.SSH:  0.09990449999999997\n",
      "Approximation Method 2 O.SSH:  0.19980899999999993\n",
      "Approximation Method 2 A.SSH:  0.39961799999999986\n"
     ]
    }
   ],
   "source": [
    "println(\"Approximation Method 2 B.SSH:  \"*string(λᴮ_BZAG(α_B,Ω_B)));\n",
    "println(\"Approximation Method 2 O.SSH:  \"*string(λᵒ_BZAG(α_O,Ω_O)));\n",
    "println(\"Approximation Method 2 A.SSH:  \"*string(λᵃ_BZAG(α_A,Ω_A)));"
   ]
  },
  {
   "attachments": {},
   "cell_type": "markdown",
   "metadata": {},
   "source": [
    "### Fermi-Surface Average"
   ]
  },
  {
   "cell_type": "code",
   "execution_count": 65,
   "metadata": {},
   "outputs": [
    {
     "name": "stdout",
     "output_type": "stream",
     "text": [
      "Fermi-Surface Average method B.SSH:  0.06352182732882727\n",
      "Fermi-Surface Average method O.SSH:  0.2420022915788981\n",
      "Fermi-Surface Average method A.SSH:  0.12704365465765455\n"
     ]
    }
   ],
   "source": [
    "println(\"Fermi-Surface Average method B.SSH:  \"*string(λ_BSSH(k_arr,q_arr,ϵ,μ,t,x₀,Γ,N,α_B,Ω_B)));\n",
    "println(\"Fermi-Surface Average method O.SSH:  \"*string(λ_OSSH(k_arr,q_arr,ϵ,μ,t,x₀,Γ,N,α_O,Ω_O)));\n",
    "println(\"Fermi-Surface Average method A.SSH:  \"*string(λ_ASSH(k_arr,q_arr,ϵ,μ,t,x₀,Γ,N,α_A,Ω_A)));"
   ]
  },
  {
   "cell_type": "code",
   "execution_count": null,
   "metadata": {},
   "outputs": [],
   "source": []
  }
 ],
 "metadata": {
  "kernelspec": {
   "display_name": "Julia 1.8.3",
   "language": "julia",
   "name": "julia-1.8"
  },
  "language_info": {
   "file_extension": ".jl",
   "mimetype": "application/julia",
   "name": "julia",
   "version": "1.8.3"
  }
 },
 "nbformat": 4,
 "nbformat_minor": 2
}
